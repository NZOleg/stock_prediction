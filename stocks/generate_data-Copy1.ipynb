{
 "cells": [
  {
   "cell_type": "code",
   "execution_count": 1,
   "metadata": {},
   "outputs": [
    {
     "name": "stderr",
     "output_type": "stream",
     "text": [
      "C:\\Users\\Olegok\\Anaconda3\\envs\\py36\\lib\\site-packages\\h5py\\__init__.py:36: FutureWarning: Conversion of the second argument of issubdtype from `float` to `np.floating` is deprecated. In future, it will be treated as `np.float64 == np.dtype(float).type`.\n",
      "  from ._conv import register_converters as _register_converters\n",
      "Using TensorFlow backend.\n"
     ]
    }
   ],
   "source": [
    "import numpy as np\n",
    "import matplotlib.pyplot as plt\n",
    "import pandas as pd\n",
    "from pandas import datetime\n",
    "import math, time\n",
    "import sklearn\n",
    "import sklearn.preprocessing\n",
    "from sklearn.metrics import mean_squared_error\n",
    "from keras.models import Sequential\n",
    "from keras.layers.core import Dense, Dropout, Activation, Flatten\n",
    "from keras.layers.recurrent import LSTM\n",
    "from keras.models import Sequential\n",
    "from keras.layers import Dense, Bidirectional\n",
    "from keras.layers import LSTM\n",
    "from keras.preprocessing import sequence\n",
    "import csv \n",
    "import os.path\n",
    "import gc\n",
    "import time"
   ]
  },
  {
   "cell_type": "code",
   "execution_count": 2,
   "metadata": {},
   "outputs": [],
   "source": [
    "min_max_scaler = sklearn.preprocessing.MinMaxScaler()\n",
    "def create_dataset(seq_len = 20,stock = \"AAPL\", margin = 0):\n",
    "    data = pd.read_csv(stock+'.csv')\n",
    "    data = data.drop(['direction_up', 'direction_down','Date', 'direction'], axis=1)\n",
    "    data = data.dropna(axis=0, how='any')\n",
    "    \n",
    "    for key in data:\n",
    "        data[key] = min_max_scaler.fit_transform(data[key].values.reshape(-1,1))\n",
    "    x_data = data.as_matrix()\n",
    "    x_data_seq = []\n",
    "    y_data_seq = []\n",
    "    for index in range(len(data) - seq_len): \n",
    "        x_data_seq.append(x_data[index: index + seq_len])\n",
    "        y_data_seq.append(x_data[index + seq_len]+margin)\n",
    "    x_train = np.array(x_data_seq[:math.ceil(len(data)*0.8)][:][:])\n",
    "    y_train = np.array(y_data_seq[:math.ceil(len(data)*0.8)][:])\n",
    "    x_test = np.array(x_data_seq[math.ceil(len(data)*0.8):][:][:])\n",
    "    y_test = np.array(y_data_seq[math.ceil(len(data)*0.8):][:])\n",
    "    return x_train, y_train, x_test, y_test"
   ]
  },
  {
   "cell_type": "code",
   "execution_count": 3,
   "metadata": {},
   "outputs": [],
   "source": [
    "def Model(_batch_size, _n_neurons=128 , _dropout=0.5, seq_len=20, _activation='relu'):\n",
    "    model = Sequential()\n",
    "    model.add(LSTM(_n_neurons, batch_input_shape=(_batch_size, seq_len, 36)))\n",
    "    model.add(Dropout(_dropout))\n",
    "    #model.add(Flatten())\n",
    "    model.add(Dense(36, activation=_activation)) #relu & signoid\n",
    "    model.compile(loss='mean_squared_error', optimizer='adam')\n",
    "    return model"
   ]
  },
  {
   "cell_type": "code",
   "execution_count": 4,
   "metadata": {},
   "outputs": [],
   "source": [
    "def fit_dataset(batch_size, x_train, y_train, x_test, y_test): \n",
    "    x_train = x_train[:(x_train.shape[0]//batch_size)*batch_size]\n",
    "    y_train = y_train[:(y_train.shape[0]//batch_size)*batch_size]\n",
    "    x_test = x_test[:(x_test.shape[0]//batch_size)*batch_size]\n",
    "    y_test = y_test[:(y_test.shape[0]//batch_size)*batch_size]\n",
    "    return x_train, y_train, x_test, y_test"
   ]
  },
  {
   "cell_type": "code",
   "execution_count": 5,
   "metadata": {},
   "outputs": [
    {
     "name": "stdout",
     "output_type": "stream",
     "text": [
      "Train on 7510 samples, validate on 1860 samples\n",
      "Epoch 1/1\n",
      "7510/7510 [==============================] - 36s 5ms/step - loss: 0.0139 - val_loss: 0.0102\n",
      "1860/1860 [==============================] - 2s 1ms/step\n"
     ]
    }
   ],
   "source": [
    "n_epoch=1\n",
    "n_neurons = 350\n",
    "batch = 10\n",
    "pred_day = 1\n",
    "stock = 'AAPL'\n",
    "seq = 10\n",
    "file_name = 'data/'+stock +'-'+ str(pred_day) + '.csv'\n",
    "data = []\n",
    "start_time = time.time()\n",
    "model = Model(batch,n_neurons,0.5, seq)\n",
    "x_train, y_train, x_test, y_test = create_dataset(seq,stock, pred_day-1)\n",
    "x_train, y_train, x_test, y_test = fit_dataset(batch, x_train, y_train, x_test, y_test)\n",
    "model.fit(x_train,\n",
    "     y_train,\n",
    "    batch_size=batch,\n",
    "     epochs=n_epoch,\n",
    "   validation_data=(x_test, y_test),\n",
    "    verbose=1)\n",
    "score = model.evaluate(x_test, y_test, batch_size=batch)\n"
   ]
  },
  {
   "cell_type": "code",
   "execution_count": 8,
   "metadata": {},
   "outputs": [],
   "source": [
    "test_pred =  model.predict(x_test[x_test.shape[0]-100:], batch_size=batch)"
   ]
  },
  {
   "cell_type": "code",
   "execution_count": 9,
   "metadata": {},
   "outputs": [],
   "source": [
    "test_pred = min_max_scaler.inverse_transform(test_pred)"
   ]
  },
  {
   "cell_type": "code",
   "execution_count": 30,
   "metadata": {},
   "outputs": [
    {
     "data": {
      "text/plain": [
       "array([157.12701, 148.60535, 144.86186, 145.10426, 149.3768 , 149.51122,\n",
       "       156.09413, 161.37793, 159.94005, 160.23209, 160.85876, 162.92574,\n",
       "       164.72786, 167.10538, 168.69847, 170.97722, 172.38152, 170.64682,\n",
       "       165.50256, 162.04768, 163.8774 , 163.20074, 163.53519, 171.90703,\n",
       "       177.20306, 176.74228, 174.55536, 172.20297, 166.63333, 170.93765,\n",
       "       172.38597, 170.73248, 169.56456, 169.35599, 169.99316, 169.65855,\n",
       "       176.71033, 175.70148, 174.03993, 172.36609, 174.62746, 172.4376 ,\n",
       "       169.7412 , 168.5837 , 169.92442, 170.03935, 162.79028, 160.42484,\n",
       "       161.46954, 158.81215, 166.55795, 168.25772, 169.9612 , 172.6076 ,\n",
       "       170.94304, 170.58469, 169.8471 , 171.71721, 171.89494, 167.11423,\n",
       "       173.28465, 174.97163, 175.41833, 172.17685, 170.98776, 167.39386,\n",
       "       164.72043, 166.10638, 166.06598, 166.97661, 166.15236, 166.13785,\n",
       "       163.19196, 161.59537, 166.86768, 164.17128, 155.60397, 156.16031,\n",
       "       162.6512 , 163.95189, 164.75638, 164.20609, 163.24348, 163.87482,\n",
       "       165.53816, 168.76154, 172.9599 , 174.577  , 174.89735, 175.14966,\n",
       "       172.30537, 172.83884, 174.23955, 174.89404, 172.6764 , 176.04272,\n",
       "       182.59914, 182.7388 , 179.0809 , 175.94046], dtype=float32)"
      ]
     },
     "execution_count": 30,
     "metadata": {},
     "output_type": "execute_result"
    }
   ],
   "source": [
    "test_pred[:,3]"
   ]
  },
  {
   "cell_type": "code",
   "execution_count": 66,
   "metadata": {},
   "outputs": [],
   "source": [
    "data = pd.read_csv('AAPL.csv')\n",
    "data = data.drop(['direction_up', 'direction_down', 'direction'], axis=1)\n",
    "data = data[data.shape[0]-100:].reset_index()"
   ]
  },
  {
   "cell_type": "code",
   "execution_count": 67,
   "metadata": {},
   "outputs": [],
   "source": [
    "data[\"prediction\"] = pd.Series(test_pred[:,3])"
   ]
  },
  {
   "cell_type": "code",
   "execution_count": 72,
   "metadata": {},
   "outputs": [],
   "source": [
    "data[\"prediction\"] = data[\"prediction\"].shift(1)"
   ]
  },
  {
   "cell_type": "code",
   "execution_count": 73,
   "metadata": {},
   "outputs": [],
   "source": [
    "data = data.dropna(axis=0, how='any')"
   ]
  },
  {
   "cell_type": "code",
   "execution_count": 77,
   "metadata": {},
   "outputs": [],
   "source": [
    "data.to_csv('out.csv', index=False)"
   ]
  },
  {
   "cell_type": "code",
   "execution_count": null,
   "metadata": {},
   "outputs": [],
   "source": []
  }
 ],
 "metadata": {
  "kernelspec": {
   "display_name": "Python 3",
   "language": "python",
   "name": "python3"
  },
  "language_info": {
   "codemirror_mode": {
    "name": "ipython",
    "version": 3
   },
   "file_extension": ".py",
   "mimetype": "text/x-python",
   "name": "python",
   "nbconvert_exporter": "python",
   "pygments_lexer": "ipython3",
   "version": "3.6.4"
  }
 },
 "nbformat": 4,
 "nbformat_minor": 2
}
